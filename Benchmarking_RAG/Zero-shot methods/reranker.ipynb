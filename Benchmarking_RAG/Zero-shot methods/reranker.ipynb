{
 "cells": [
  {
   "cell_type": "code",
   "execution_count": 1,
   "metadata": {},
   "outputs": [
    {
     "name": "stderr",
     "output_type": "stream",
     "text": [
      "c:\\Users\\coolk\\AppData\\Local\\Programs\\Python\\Python312\\Lib\\site-packages\\tqdm\\auto.py:21: TqdmWarning: IProgress not found. Please update jupyter and ipywidgets. See https://ipywidgets.readthedocs.io/en/stable/user_install.html\n",
      "  from .autonotebook import tqdm as notebook_tqdm\n"
     ]
    }
   ],
   "source": [
    "import json\n",
    "import os\n",
    "import numpy as np\n",
    "import pandas as pd\n",
    "from datasets import load_dataset\n",
    "from urllib.parse import parse_qs, urlparse\n",
    "import requests\n",
    "import chromadb\n",
    "import openai\n",
    "from chromadb.config import Settings\n",
    "import os\n",
    "import openai\n",
    "from openai import OpenAI\n",
    "import chromadb\n",
    "import fitz  # PyMuPDF\n",
    "from chromadb.utils import embedding_functions\n",
    "import chromadb.utils.embedding_functions as embedding_functions\n",
    "from chromadb.config import Settings\n",
    "import base64"
   ]
  },
  {
   "cell_type": "code",
   "execution_count": 2,
   "metadata": {},
   "outputs": [],
   "source": [
    "import base64\n",
    "\n",
    "\n",
    "def extract_pdf_url(url):\n",
    "    \"\"\"\n",
    "    Extracts the actual PDF URL from the given URL.\n",
    "    Decodes it from base64 if necessary.\n",
    "    \"\"\"\n",
    "    if url.lower().endswith('.pdf'):\n",
    "        return url  # Direct PDF URL\n",
    "    else:\n",
    "        parsed_url = urlparse(url)\n",
    "        query_params = parse_qs(parsed_url.query)\n",
    "        pdf_target = query_params.get('pdfTarget', [None])[0]\n",
    "\n",
    "        if pdf_target:\n",
    "            pdf_url = base64.b64decode(pdf_target).decode('utf-8')\n",
    "            return pdf_url\n",
    "        else:\n",
    "            raise ValueError(\"No valid PDF URL found in the provided URL\")\n",
    "\n",
    "def download_pdf(url, save_path):\n",
    "    \"\"\"\n",
    "    Downloads a PDF from a given URL.\n",
    "    \"\"\"\n",
    "    try:\n",
    "        pdf_url = extract_pdf_url(url)\n",
    "        response = requests.get(pdf_url, stream=True)\n",
    "        response.raise_for_status()  # Ensure the request was successful\n",
    "\n",
    "        with open(save_path, 'wb') as file:\n",
    "            for chunk in response.iter_content(chunk_size=8192):\n",
    "                file.write(chunk)\n",
    "\n",
    "        print(f\"Downloaded PDF from: {pdf_url} to {save_path}\")\n",
    "    except Exception as e:\n",
    "        print(f\"Error downloading PDF: {e}\")\n",
    "        \n",
    "def extract_text_from_pdf(pdf_path):\n",
    "    doc = fitz.open(pdf_path)\n",
    "    text = \"\"\n",
    "    for page_num in range(len(doc)):\n",
    "        page = doc.load_page(page_num)\n",
    "        text += page.get_text()\n",
    "    return text"
   ]
  },
  {
   "cell_type": "code",
   "execution_count": 4,
   "metadata": {},
   "outputs": [
    {
     "name": "stderr",
     "output_type": "stream",
     "text": [
      "c:\\Users\\coolk\\AppData\\Local\\Programs\\Python\\Python312\\Lib\\site-packages\\huggingface_hub\\file_download.py:1132: FutureWarning: `resume_download` is deprecated and will be removed in version 1.0.0. Downloads always resume when possible. If you want to force a new download, use `force_download=True`.\n",
      "  warnings.warn(\n",
      "c:\\Users\\coolk\\AppData\\Local\\Programs\\Python\\Python312\\Lib\\site-packages\\huggingface_hub\\file_download.py:157: UserWarning: `huggingface_hub` cache-system uses symlinks by default to efficiently store duplicated files but your machine does not support them in C:\\Users\\coolk\\.cache\\huggingface\\hub\\models--cross-encoder--ms-marco-TinyBERT-L-2-v2. Caching files will still work but in a degraded version that might require more space on your disk. This warning can be disabled by setting the `HF_HUB_DISABLE_SYMLINKS_WARNING` environment variable. For more details, see https://huggingface.co/docs/huggingface_hub/how-to-cache#limitations.\n",
      "To support symlinks on Windows, you either need to activate Developer Mode or to run Python as an administrator. In order to see activate developer mode, see this article: https://docs.microsoft.com/en-us/windows/apps/get-started/enable-your-device-for-development\n",
      "  warnings.warn(message)\n"
     ]
    }
   ],
   "source": [
    "from sentence_transformers import CrossEncoder\n",
    "\n",
    "cross_encoder = CrossEncoder(\n",
    "    \"cross-encoder/ms-marco-TinyBERT-L-2-v2\", max_length=512, device=\"cpu\"\n",
    ")"
   ]
  },
  {
   "cell_type": "code",
   "execution_count": 5,
   "metadata": {},
   "outputs": [
    {
     "ename": "NameError",
     "evalue": "name 'question' is not defined",
     "output_type": "error",
     "traceback": [
      "\u001b[1;31m---------------------------------------------------------------------------\u001b[0m",
      "\u001b[1;31mNameError\u001b[0m                                 Traceback (most recent call last)",
      "Cell \u001b[1;32mIn[5], line 2\u001b[0m\n\u001b[0;32m      1\u001b[0m reranked_docs \u001b[38;5;241m=\u001b[39m cross_encoder\u001b[38;5;241m.\u001b[39mrank(\n\u001b[1;32m----> 2\u001b[0m     \u001b[43mquestion\u001b[49m,\n\u001b[0;32m      3\u001b[0m     [doc\u001b[38;5;241m.\u001b[39mpage_content \u001b[38;5;28;01mfor\u001b[39;00m doc \u001b[38;5;129;01min\u001b[39;00m retrieved_docs],\n\u001b[0;32m      4\u001b[0m     top_k\u001b[38;5;241m=\u001b[39m\u001b[38;5;241m3\u001b[39m,\n\u001b[0;32m      5\u001b[0m     return_documents\u001b[38;5;241m=\u001b[39m\u001b[38;5;28;01mTrue\u001b[39;00m,\n\u001b[0;32m      6\u001b[0m )\n",
      "\u001b[1;31mNameError\u001b[0m: name 'question' is not defined"
     ]
    }
   ],
   "source": [
    "reranked_docs = cross_encoder.rank(\n",
    "    question,\n",
    "    [doc.page_content for doc in retrieved_docs],\n",
    "    top_k=3,\n",
    "    return_documents=True,\n",
    ")"
   ]
  },
  {
   "cell_type": "code",
   "execution_count": 6,
   "metadata": {},
   "outputs": [],
   "source": [
    "def create_chroma_vectordb_from_pdf(pdf_path, openai_api_key, batch_size=100):\n",
    "# Extract text from PDF\n",
    "    text = extract_text_from_pdf(pdf_path)\n",
    "    \n",
    "    # Split text into sentences\n",
    "    sentences = text.split('\\n')\n",
    "    sentences = [sentence.strip() for sentence in sentences if sentence.strip()]  # Remove empty sentences\n",
    "    \n",
    "    # Initialize OpenAI Embedding Function\n",
    "    openai_ef = embedding_functions.OpenAIEmbeddingFunction(\n",
    "        api_key=openai_api_key,\n",
    "        model_name=\"text-embedding-ada-002\"\n",
    "    )\n",
    "    \n",
    "    # Batch processing for embeddings\n",
    "    vectors = []\n",
    "    for i in range(0, len(sentences), batch_size):\n",
    "        batch = sentences[i:i+batch_size]\n",
    "        if len(batch) > 0:  # Ensure batch is not empty\n",
    "            batch_vectors = openai_ef(batch)\n",
    "            vectors.extend(batch_vectors)\n",
    "    \n",
    "    # Store vectors in Chroma vector database\n",
    "    client = chromadb.Client(Settings())\n",
    "    collection_name = \"Finance_bench_documents\"\n",
    "    collection = client.get_or_create_collection(name= collection_name) \n",
    "    # if client.has_collection(collection_name):\n",
    "    #     collection = client.get_collection(collection_name)\n",
    "    # else:\n",
    "    #     collection = client.create_collection(collection_name)\n",
    "    \n",
    "    for i, (sentence, vector) in enumerate(zip(sentences, vectors)):\n",
    "        collection.add(f\"id_{i}\", vector, {\"sentence\": sentence})\n",
    "    \n",
    "    print(f\"Stored {len(sentences)} vectors in the Chroma vector database.\")"
   ]
  },
  {
   "cell_type": "code",
   "execution_count": 11,
   "metadata": {},
   "outputs": [
    {
     "ename": "NameError",
     "evalue": "name 'sec_filing_pdf' is not defined",
     "output_type": "error",
     "traceback": [
      "\u001b[1;31m---------------------------------------------------------------------------\u001b[0m",
      "\u001b[1;31mNameError\u001b[0m                                 Traceback (most recent call last)",
      "Cell \u001b[1;32mIn[11], line 4\u001b[0m\n\u001b[0;32m      1\u001b[0m \u001b[38;5;28;01mfrom\u001b[39;00m \u001b[38;5;21;01mlangchain\u001b[39;00m\u001b[38;5;21;01m.\u001b[39;00m\u001b[38;5;21;01mtext_splitter\u001b[39;00m \u001b[38;5;28;01mimport\u001b[39;00m RecursiveCharacterTextSplitter\n\u001b[0;32m      2\u001b[0m \u001b[38;5;28;01mfrom\u001b[39;00m \u001b[38;5;21;01mlangchain\u001b[39;00m\u001b[38;5;21;01m.\u001b[39;00m\u001b[38;5;21;01mdocument_loaders\u001b[39;00m \u001b[38;5;28;01mimport\u001b[39;00m PyPDFLoader\n\u001b[1;32m----> 4\u001b[0m loader \u001b[38;5;241m=\u001b[39m PyPDFLoader(\u001b[43msec_filing_pdf\u001b[49m)\n\u001b[0;32m      6\u001b[0m \u001b[38;5;66;03m# Load the PDF document\u001b[39;00m\n\u001b[0;32m      7\u001b[0m documents \u001b[38;5;241m=\u001b[39m loader\u001b[38;5;241m.\u001b[39mload()\n",
      "\u001b[1;31mNameError\u001b[0m: name 'sec_filing_pdf' is not defined"
     ]
    }
   ],
   "source": [
    "from langchain.text_splitter import RecursiveCharacterTextSplitter\n",
    "from langchain.document_loaders import PyPDFLoader\n",
    "\n",
    "loader = PyPDFLoader(sec_filing_pdf)\n",
    "\n",
    "# Load the PDF document\n",
    "documents = loader.load()\n",
    "text_splitter = RecursiveCharacterTextSplitter.from_huggingface_tokenizer(\n",
    "    tokenizer = AutoTokenizer.from_pretrained(\"sentence-transformers/all-MiniLM-L12-v2\"),\n",
    "    chunk_size=256,\n",
    "    chunk_overlap=16,\n",
    "    strip_whitespace=True,\n",
    ")\n",
    "\n",
    "docs = text_splitter.split_documents(pages)\n",
    "\n",
    "text_splitter = CharacterTextSplitter(\n",
    "            chunk_size=1300, \n",
    "            chunk_overlap=5,\n",
    "            #separators=[\"\\n\\n\", \"\\n\", \" \", \"\"],\n",
    "            length_function=len)\n",
    "docs = text_splitter.split_documents(documents)"
   ]
  }
 ],
 "metadata": {
  "kernelspec": {
   "display_name": "Rag_research",
   "language": "python",
   "name": "python3"
  },
  "language_info": {
   "codemirror_mode": {
    "name": "ipython",
    "version": 3
   },
   "file_extension": ".py",
   "mimetype": "text/x-python",
   "name": "python",
   "nbconvert_exporter": "python",
   "pygments_lexer": "ipython3",
   "version": "3.12.4"
  }
 },
 "nbformat": 4,
 "nbformat_minor": 2
}
