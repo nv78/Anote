{
 "cells": [
  {
   "cell_type": "code",
   "execution_count": 2,
   "metadata": {},
   "outputs": [
    {
     "name": "stderr",
     "output_type": "stream",
     "text": [
      "c:\\Users\\spurt\\.conda\\envs\\Rag_research\\Lib\\site-packages\\huggingface_hub\\file_download.py:157: UserWarning: `huggingface_hub` cache-system uses symlinks by default to efficiently store duplicated files but your machine does not support them in C:\\Users\\spurt\\.cache\\huggingface\\hub\\models--sentence-transformers--all-MiniLM-L6-v2. Caching files will still work but in a degraded version that might require more space on your disk. This warning can be disabled by setting the `HF_HUB_DISABLE_SYMLINKS_WARNING` environment variable. For more details, see https://huggingface.co/docs/huggingface_hub/how-to-cache#limitations.\n",
      "To support symlinks on Windows, you either need to activate Developer Mode or to run Python as an administrator. In order to see activate developer mode, see this article: https://docs.microsoft.com/en-us/windows/apps/get-started/enable-your-device-for-development\n",
      "  warnings.warn(message)\n",
      "c:\\Users\\spurt\\.conda\\envs\\Rag_research\\Lib\\site-packages\\huggingface_hub\\file_download.py:1132: FutureWarning: `resume_download` is deprecated and will be removed in version 1.0.0. Downloads always resume when possible. If you want to force a new download, use `force_download=True`.\n",
      "  warnings.warn(\n"
     ]
    },
    {
     "data": {
      "text/plain": [
       "array([[0.9999999 , 0.43200696, 0.19729008, 0.18353665, 0.29461688,\n",
       "        0.20314594, 0.10158413],\n",
       "       [0.43200696, 1.        , 0.20701587, 0.26394585, 0.2702706 ,\n",
       "        0.29661483, 0.18270129],\n",
       "       [0.19729008, 0.20701587, 0.9999999 , 0.7424389 , 0.30360928,\n",
       "        0.35358807, 0.2323938 ],\n",
       "       [0.18353665, 0.26394585, 0.7424389 , 0.9999999 , 0.3787859 ,\n",
       "        0.45585647, 0.28862464],\n",
       "       [0.29461688, 0.2702706 , 0.30360928, 0.3787859 , 1.0000001 ,\n",
       "        0.30275553, 0.27831092],\n",
       "       [0.20314594, 0.29661483, 0.35358807, 0.45585647, 0.30275553,\n",
       "        1.        , 0.4717887 ],\n",
       "       [0.10158413, 0.18270129, 0.2323938 , 0.28862464, 0.27831092,\n",
       "        0.4717887 , 1.0000001 ]], dtype=float32)"
      ]
     },
     "execution_count": 2,
     "metadata": {},
     "output_type": "execute_result"
    }
   ],
   "source": [
    "from sentence_transformers import SentenceTransformer\n",
    "from sklearn.metrics.pairwise import cosine_similarity\n",
    "import matplotlib.pyplot as plt\n",
    "\n",
    "# Load the pre-trained model\n",
    "model = SentenceTransformer('sentence-transformers/all-MiniLM-L6-v2')\n",
    "\n",
    "# List of words to calculate similarity\n",
    "words = [\"photon\", \"physics\", \"peter rabbit\", \"bunny\", \"grass\", \"chocolate\", \"cookies\"]\n",
    "\n",
    "# Encode words into embeddings\n",
    "embeddings = model.encode(words)\n",
    "\n",
    "# Calculate cosine similarity matrix\n",
    "similarity_matrix = cosine_similarity(embeddings)\n",
    "\n",
    "similarity_matrix"
   ]
  },
  {
   "cell_type": "code",
   "execution_count": 16,
   "metadata": {},
   "outputs": [],
   "source": [
    "import pandas as pd\n",
    "from openai import OpenAI\n",
    "import chromadb\n",
    "from datasets import load_dataset\n",
    "import requests\n",
    "import os\n",
    "import glob\n",
    "from pypdf import PdfReader\n",
    "import statistics"
   ]
  },
  {
   "cell_type": "code",
   "execution_count": 17,
   "metadata": {},
   "outputs": [],
   "source": [
    "dataset = load_dataset(\"PatronusAI/financebench\")\n",
    "df = pd.DataFrame(dataset['train'])\n",
    "test = df[:10]"
   ]
  },
  {
   "cell_type": "code",
   "execution_count": 19,
   "metadata": {},
   "outputs": [
    {
     "name": "stdout",
     "output_type": "stream",
     "text": [
      "[0.3661397, 0.4546631, 0.5100431, 0.3660777, 0.4025075, 0.27817804, 0.4453697, 0.6367813, 0.54602927, 0.4742635]\n",
      "0.4480053\n"
     ]
    }
   ],
   "source": [
    "cosine_similarities = []\n",
    "\n",
    "for index, row in test.iterrows():\n",
    "    doc_link = row['doc_link']\n",
    "    doc_name = row['doc_name']\n",
    "    query = row['question']\n",
    "    ref_answer = row['answer']\n",
    "    ref_context = row['evidence_text']\n",
    "\n",
    "    query_embedding = model.encode(query).reshape(1, -1)\n",
    "    ref_context_embedding = model.encode(ref_context).reshape(1, -1)\n",
    "\n",
    "    similarity_matrix = cosine_similarity(query_embedding, ref_context_embedding)\n",
    "    cosine_similarities.append(similarity_matrix[0][0])\n",
    "    #values closer to one mean that they are the same or similar\n",
    "\n",
    "print(cosine_similarities)\n",
    "correction_value = statistics.mean(cosine_similarities)\n",
    "print(correction_value)"
   ]
  },
  {
   "cell_type": "code",
   "execution_count": null,
   "metadata": {},
   "outputs": [],
   "source": []
  },
  {
   "cell_type": "markdown",
   "metadata": {},
   "source": []
  }
 ],
 "metadata": {
  "kernelspec": {
   "display_name": "Rag_research",
   "language": "python",
   "name": "python3"
  },
  "language_info": {
   "codemirror_mode": {
    "name": "ipython",
    "version": 3
   },
   "file_extension": ".py",
   "mimetype": "text/x-python",
   "name": "python",
   "nbconvert_exporter": "python",
   "pygments_lexer": "ipython3",
   "version": "3.12.2"
  }
 },
 "nbformat": 4,
 "nbformat_minor": 2
}
